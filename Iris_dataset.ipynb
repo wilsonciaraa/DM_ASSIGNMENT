{
 "cells": [
  {
   "cell_type": "code",
   "execution_count": 6,
   "id": "e9e86d45",
   "metadata": {},
   "outputs": [],
   "source": [
    "#import essentials libraries\n",
    "import pandas as pd\n",
    "import numpy as np\n",
    "import lazypredict"
   ]
  },
  {
   "cell_type": "code",
   "execution_count": 7,
   "id": "b63812bd",
   "metadata": {},
   "outputs": [
    {
     "data": {
      "text/html": [
       "<div>\n",
       "<style scoped>\n",
       "    .dataframe tbody tr th:only-of-type {\n",
       "        vertical-align: middle;\n",
       "    }\n",
       "\n",
       "    .dataframe tbody tr th {\n",
       "        vertical-align: top;\n",
       "    }\n",
       "\n",
       "    .dataframe thead th {\n",
       "        text-align: right;\n",
       "    }\n",
       "</style>\n",
       "<table border=\"1\" class=\"dataframe\">\n",
       "  <thead>\n",
       "    <tr style=\"text-align: right;\">\n",
       "      <th></th>\n",
       "      <th>sepal_length</th>\n",
       "      <th>sepal_width</th>\n",
       "      <th>petal_length</th>\n",
       "      <th>petal_width</th>\n",
       "      <th>species</th>\n",
       "    </tr>\n",
       "  </thead>\n",
       "  <tbody>\n",
       "    <tr>\n",
       "      <th>0</th>\n",
       "      <td>5.1</td>\n",
       "      <td>3.5</td>\n",
       "      <td>1.4</td>\n",
       "      <td>0.2</td>\n",
       "      <td>Iris-setosa</td>\n",
       "    </tr>\n",
       "    <tr>\n",
       "      <th>1</th>\n",
       "      <td>4.9</td>\n",
       "      <td>3.0</td>\n",
       "      <td>1.4</td>\n",
       "      <td>0.2</td>\n",
       "      <td>Iris-setosa</td>\n",
       "    </tr>\n",
       "    <tr>\n",
       "      <th>2</th>\n",
       "      <td>4.7</td>\n",
       "      <td>3.2</td>\n",
       "      <td>1.3</td>\n",
       "      <td>0.2</td>\n",
       "      <td>Iris-setosa</td>\n",
       "    </tr>\n",
       "    <tr>\n",
       "      <th>3</th>\n",
       "      <td>4.6</td>\n",
       "      <td>3.1</td>\n",
       "      <td>1.5</td>\n",
       "      <td>0.2</td>\n",
       "      <td>Iris-setosa</td>\n",
       "    </tr>\n",
       "    <tr>\n",
       "      <th>4</th>\n",
       "      <td>5.0</td>\n",
       "      <td>3.6</td>\n",
       "      <td>1.4</td>\n",
       "      <td>0.2</td>\n",
       "      <td>Iris-setosa</td>\n",
       "    </tr>\n",
       "  </tbody>\n",
       "</table>\n",
       "</div>"
      ],
      "text/plain": [
       "   sepal_length  sepal_width  petal_length  petal_width      species\n",
       "0           5.1          3.5           1.4          0.2  Iris-setosa\n",
       "1           4.9          3.0           1.4          0.2  Iris-setosa\n",
       "2           4.7          3.2           1.3          0.2  Iris-setosa\n",
       "3           4.6          3.1           1.5          0.2  Iris-setosa\n",
       "4           5.0          3.6           1.4          0.2  Iris-setosa"
      ]
     },
     "execution_count": 7,
     "metadata": {},
     "output_type": "execute_result"
    }
   ],
   "source": [
    "data=pd.read_csv(\"IRIS.csv\")\n",
    "data.head()\n"
   ]
  },
  {
   "cell_type": "code",
   "execution_count": 8,
   "id": "0f5f2c9c",
   "metadata": {},
   "outputs": [],
   "source": [
    "x=data.drop(['species'],axis=1)\n",
    "y=data['species']"
   ]
  },
  {
   "cell_type": "code",
   "execution_count": 9,
   "id": "4cc39387",
   "metadata": {},
   "outputs": [],
   "source": [
    "from lazypredict.Supervised import LazyClassifier\n",
    "from sklearn.model_selection import train_test_split"
   ]
  },
  {
   "cell_type": "code",
   "execution_count": 10,
   "id": "58a8f3e2",
   "metadata": {},
   "outputs": [],
   "source": [
    "xtrain,xtest,ytrain,ytest=train_test_split(x,y,test_size=0.2,random_state=0)"
   ]
  },
  {
   "cell_type": "code",
   "execution_count": 11,
   "id": "5e92d322",
   "metadata": {},
   "outputs": [
    {
     "name": "stderr",
     "output_type": "stream",
     "text": [
      "100%|██████████████████████████████████████████████████████████████████████████████████| 29/29 [00:02<00:00, 13.15it/s]\n"
     ]
    }
   ],
   "source": [
    "clf=LazyClassifier(verbose=0,ignore_warnings=True, custom_metric=None)\n",
    "models,pred=clf.fit(xtrain,xtest,ytrain,ytest)"
   ]
  },
  {
   "cell_type": "code",
   "execution_count": 12,
   "id": "c02e4220",
   "metadata": {},
   "outputs": [
    {
     "name": "stdout",
     "output_type": "stream",
     "text": [
      "                               Accuracy  Balanced Accuracy ROC AUC  F1 Score  \\\n",
      "Model                                                                          \n",
      "LGBMClassifier                     1.00               1.00    None      1.00   \n",
      "BaggingClassifier                  1.00               1.00    None      1.00   \n",
      "SVC                                1.00               1.00    None      1.00   \n",
      "SGDClassifier                      1.00               1.00    None      1.00   \n",
      "DecisionTreeClassifier             1.00               1.00    None      1.00   \n",
      "RandomForestClassifier             1.00               1.00    None      1.00   \n",
      "QuadraticDiscriminantAnalysis      1.00               1.00    None      1.00   \n",
      "ExtraTreesClassifier               1.00               1.00    None      1.00   \n",
      "KNeighborsClassifier               1.00               1.00    None      1.00   \n",
      "NuSVC                              1.00               1.00    None      1.00   \n",
      "LogisticRegression                 1.00               1.00    None      1.00   \n",
      "LinearDiscriminantAnalysis         1.00               1.00    None      1.00   \n",
      "Perceptron                         0.97               0.94    None      0.97   \n",
      "AdaBoostClassifier                 0.97               0.94    None      0.97   \n",
      "LabelSpreading                     0.97               0.94    None      0.97   \n",
      "LabelPropagation                   0.97               0.94    None      0.97   \n",
      "GaussianNB                         0.97               0.94    None      0.97   \n",
      "ExtraTreeClassifier                0.97               0.94    None      0.97   \n",
      "LinearSVC                          0.97               0.94    None      0.97   \n",
      "RidgeClassifier                    0.80               0.82    None      0.81   \n",
      "RidgeClassifierCV                  0.80               0.82    None      0.81   \n",
      "CalibratedClassifierCV             0.80               0.82    None      0.81   \n",
      "PassiveAggressiveClassifier        0.83               0.77    None      0.83   \n",
      "NearestCentroid                    0.80               0.76    None      0.80   \n",
      "BernoulliNB                        0.63               0.66    None      0.62   \n",
      "DummyClassifier                    0.20               0.33    None      0.07   \n",
      "\n",
      "                               Time Taken  \n",
      "Model                                      \n",
      "LGBMClassifier                       0.08  \n",
      "BaggingClassifier                    0.05  \n",
      "SVC                                  0.01  \n",
      "SGDClassifier                        0.03  \n",
      "DecisionTreeClassifier               0.02  \n",
      "RandomForestClassifier               0.19  \n",
      "QuadraticDiscriminantAnalysis        0.02  \n",
      "ExtraTreesClassifier                 0.14  \n",
      "KNeighborsClassifier                 0.04  \n",
      "NuSVC                                0.02  \n",
      "LogisticRegression                   0.02  \n",
      "LinearDiscriminantAnalysis           0.05  \n",
      "Perceptron                           0.02  \n",
      "AdaBoostClassifier                   0.10  \n",
      "LabelSpreading                       0.00  \n",
      "LabelPropagation                     0.02  \n",
      "GaussianNB                           0.00  \n",
      "ExtraTreeClassifier                  0.01  \n",
      "LinearSVC                            0.03  \n",
      "RidgeClassifier                      0.04  \n",
      "RidgeClassifierCV                    0.02  \n",
      "CalibratedClassifierCV               0.08  \n",
      "PassiveAggressiveClassifier          0.02  \n",
      "NearestCentroid                      0.01  \n",
      "BernoulliNB                          0.06  \n",
      "DummyClassifier                      0.02  \n"
     ]
    }
   ],
   "source": [
    "print(models)"
   ]
  },
  {
   "cell_type": "code",
   "execution_count": 14,
   "id": "f3c8c28c",
   "metadata": {},
   "outputs": [],
   "source": [
    "from sklearn.ensemble import RandomForestClassifier\n",
    "\n",
    "classifier=RandomForestClassifier()\n",
    "classifier.fit(xtrain,ytrain)\n",
    "ypred=classifier.predict(xtest)"
   ]
  },
  {
   "cell_type": "code",
   "execution_count": 18,
   "id": "2c124246",
   "metadata": {},
   "outputs": [
    {
     "name": "stdout",
     "output_type": "stream",
     "text": [
      "[[11  0  0]\n",
      " [ 0 13  0]\n",
      " [ 0  0  6]]\n"
     ]
    }
   ],
   "source": [
    "from sklearn.metrics import classification_report,confusion_matrix,accuracy_score\n",
    "\n",
    "print(confusion_matrix(ytest,ypred))"
   ]
  },
  {
   "cell_type": "code",
   "execution_count": 19,
   "id": "008b0a8a",
   "metadata": {},
   "outputs": [
    {
     "name": "stdout",
     "output_type": "stream",
     "text": [
      "                 precision    recall  f1-score   support\n",
      "\n",
      "    Iris-setosa       1.00      1.00      1.00        11\n",
      "Iris-versicolor       1.00      1.00      1.00        13\n",
      " Iris-virginica       1.00      1.00      1.00         6\n",
      "\n",
      "       accuracy                           1.00        30\n",
      "      macro avg       1.00      1.00      1.00        30\n",
      "   weighted avg       1.00      1.00      1.00        30\n",
      "\n"
     ]
    }
   ],
   "source": [
    "print(classification_report(ytest,ypred))"
   ]
  },
  {
   "cell_type": "code",
   "execution_count": 20,
   "id": "b2502e5f",
   "metadata": {},
   "outputs": [
    {
     "name": "stdout",
     "output_type": "stream",
     "text": [
      "1.0\n"
     ]
    }
   ],
   "source": [
    "print(accuracy_score(ytest,ypred))"
   ]
  },
  {
   "cell_type": "code",
   "execution_count": 21,
   "id": "92108592",
   "metadata": {},
   "outputs": [
    {
     "data": {
      "text/html": [
       "<div>\n",
       "<style scoped>\n",
       "    .dataframe tbody tr th:only-of-type {\n",
       "        vertical-align: middle;\n",
       "    }\n",
       "\n",
       "    .dataframe tbody tr th {\n",
       "        vertical-align: top;\n",
       "    }\n",
       "\n",
       "    .dataframe thead th {\n",
       "        text-align: right;\n",
       "    }\n",
       "</style>\n",
       "<table border=\"1\" class=\"dataframe\">\n",
       "  <thead>\n",
       "    <tr style=\"text-align: right;\">\n",
       "      <th></th>\n",
       "      <th>sepal_length</th>\n",
       "      <th>sepal_width</th>\n",
       "      <th>petal_length</th>\n",
       "      <th>petal_width</th>\n",
       "      <th>species</th>\n",
       "    </tr>\n",
       "  </thead>\n",
       "  <tbody>\n",
       "    <tr>\n",
       "      <th>145</th>\n",
       "      <td>6.70</td>\n",
       "      <td>3.00</td>\n",
       "      <td>5.20</td>\n",
       "      <td>2.30</td>\n",
       "      <td>Iris-virginica</td>\n",
       "    </tr>\n",
       "    <tr>\n",
       "      <th>146</th>\n",
       "      <td>6.30</td>\n",
       "      <td>2.50</td>\n",
       "      <td>5.00</td>\n",
       "      <td>1.90</td>\n",
       "      <td>Iris-virginica</td>\n",
       "    </tr>\n",
       "    <tr>\n",
       "      <th>147</th>\n",
       "      <td>6.50</td>\n",
       "      <td>3.00</td>\n",
       "      <td>5.20</td>\n",
       "      <td>2.00</td>\n",
       "      <td>Iris-virginica</td>\n",
       "    </tr>\n",
       "    <tr>\n",
       "      <th>148</th>\n",
       "      <td>6.20</td>\n",
       "      <td>3.40</td>\n",
       "      <td>5.40</td>\n",
       "      <td>2.30</td>\n",
       "      <td>Iris-virginica</td>\n",
       "    </tr>\n",
       "    <tr>\n",
       "      <th>149</th>\n",
       "      <td>5.90</td>\n",
       "      <td>3.00</td>\n",
       "      <td>5.10</td>\n",
       "      <td>1.80</td>\n",
       "      <td>Iris-virginica</td>\n",
       "    </tr>\n",
       "  </tbody>\n",
       "</table>\n",
       "</div>"
      ],
      "text/plain": [
       "     sepal_length  sepal_width  petal_length  petal_width         species\n",
       "145          6.70         3.00          5.20         2.30  Iris-virginica\n",
       "146          6.30         2.50          5.00         1.90  Iris-virginica\n",
       "147          6.50         3.00          5.20         2.00  Iris-virginica\n",
       "148          6.20         3.40          5.40         2.30  Iris-virginica\n",
       "149          5.90         3.00          5.10         1.80  Iris-virginica"
      ]
     },
     "execution_count": 21,
     "metadata": {},
     "output_type": "execute_result"
    }
   ],
   "source": [
    "data.tail()"
   ]
  },
  {
   "cell_type": "code",
   "execution_count": 27,
   "id": "0660fba7",
   "metadata": {},
   "outputs": [
    {
     "name": "stdout",
     "output_type": "stream",
     "text": [
      "['Iris-virginica']\n"
     ]
    },
    {
     "name": "stderr",
     "output_type": "stream",
     "text": [
      "C:\\ProgramData\\anaconda3\\lib\\site-packages\\sklearn\\base.py:439: UserWarning: X does not have valid feature names, but RandomForestClassifier was fitted with feature names\n",
      "  warnings.warn(\n"
     ]
    }
   ],
   "source": [
    "print(classifier.predict((np.array([[4,3,3,4]]))))"
   ]
  },
  {
   "cell_type": "raw",
   "id": "fefb3ab8",
   "metadata": {},
   "source": []
  }
 ],
 "metadata": {
  "kernelspec": {
   "display_name": "Python 3 (ipykernel)",
   "language": "python",
   "name": "python3"
  },
  "language_info": {
   "codemirror_mode": {
    "name": "ipython",
    "version": 3
   },
   "file_extension": ".py",
   "mimetype": "text/x-python",
   "name": "python",
   "nbconvert_exporter": "python",
   "pygments_lexer": "ipython3",
   "version": "3.10.9"
  }
 },
 "nbformat": 4,
 "nbformat_minor": 5
}
